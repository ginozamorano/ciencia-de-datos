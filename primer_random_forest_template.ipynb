{
  "cells": [
    {
      "cell_type": "markdown",
      "metadata": {
        "id": "view-in-github",
        "colab_type": "text"
      },
      "source": [
        "<a href=\"https://colab.research.google.com/github/ginozamorano/ciencia-de-datos/blob/main/primer_random_forest_template.ipynb\" target=\"_parent\"><img src=\"https://colab.research.google.com/assets/colab-badge.svg\" alt=\"Open In Colab\"/></a>"
      ]
    },
    {
      "cell_type": "markdown",
      "metadata": {
        "id": "U_osIjNbQgFV"
      },
      "source": [
        "# Tu primer random forest con scikit-learn"
      ]
    },
    {
      "cell_type": "code",
      "execution_count": null,
      "metadata": {
        "id": "9kcGZljPQgFZ"
      },
      "outputs": [],
      "source": [
        "#Importamos las librerias\n",
        "import pandas as pd\n",
        "import matplotlib.pyplot as plt\n",
        "import seaborn as sns"
      ]
    },
    {
      "cell_type": "markdown",
      "metadata": {
        "id": "NV4oZ1IUxNwh"
      },
      "source": [
        "Utilizaremos el dataset **Pima indians diabetes** de Kaggle: https://www.kaggle.com/datasets/kumargh/pimaindiansdiabetescsv"
      ]
    },
    {
      "cell_type": "code",
      "execution_count": null,
      "metadata": {
        "id": "glHWA0SmxMxz"
      },
      "outputs": [],
      "source": [
        "#Cargamos dataset a utilizar\n"
      ]
    },
    {
      "cell_type": "markdown",
      "metadata": {
        "id": "jXkxTaBkxh5X"
      },
      "source": [
        "## Exploración de datos"
      ]
    },
    {
      "cell_type": "code",
      "execution_count": null,
      "metadata": {
        "id": "aT7ud9_rgwBC"
      },
      "outputs": [],
      "source": [
        "#Visualizacion del dataframe\n"
      ]
    },
    {
      "cell_type": "code",
      "execution_count": null,
      "metadata": {
        "id": "1UkOUe5KgwBE"
      },
      "outputs": [],
      "source": [
        "#Renombramos las columnas\n"
      ]
    },
    {
      "cell_type": "code",
      "execution_count": null,
      "metadata": {
        "id": "TjXUjR-wgwBE"
      },
      "outputs": [],
      "source": [
        "#Verificacion de datos\n"
      ]
    },
    {
      "cell_type": "markdown",
      "metadata": {
        "id": "w_DxhoLeQgFb"
      },
      "source": [
        "En este conjunto de datos hay 8 características  de entrada y 1 característica de salida / destino / target.\n",
        "\n",
        "El significado de los nombres de las características es el siguiente:\n",
        "\n",
        "* Número de embarazos.\n",
        "* Concentración de glucosa en plasma a 2 horas en una prueba oral de tolerancia a la glucosa.\n",
        "* Presión arterial diastólica (mm Hg).\n",
        "* Espesor del pliegue cutáneo del tríceps (mm).\n",
        "* Insulina sérica de 2 horas (mu U / ml).\n",
        "* Índice de masa corporal (peso en kg / (altura en m) ^ 2).\n",
        "* Función del pedigrí de la diabetes.\n",
        "* Edad (años).\n",
        "* Variable de clase (0 o 1)."
      ]
    },
    {
      "cell_type": "code",
      "execution_count": null,
      "metadata": {
        "id": "weMVS1udQgFc"
      },
      "outputs": [],
      "source": [
        "#Analizamos el shape del objeto\n"
      ]
    },
    {
      "cell_type": "code",
      "execution_count": null,
      "metadata": {
        "id": "8fH9Ov12QgFd"
      },
      "outputs": [],
      "source": [
        "#Visualizamos los tipos de datos\n"
      ]
    },
    {
      "cell_type": "markdown",
      "metadata": {
        "id": "MoYJMn_pxuo7"
      },
      "source": [
        "## Entrenamiento de random forest con scikit-learn"
      ]
    },
    {
      "cell_type": "code",
      "execution_count": null,
      "metadata": {
        "id": "qTbAv6ungwBH"
      },
      "outputs": [],
      "source": [
        "#Separamos en X e y\n"
      ]
    },
    {
      "cell_type": "code",
      "execution_count": null,
      "metadata": {
        "id": "-2V7PAekQgFe"
      },
      "outputs": [],
      "source": [
        "#Importamos las librerias necesarias para la creacion del modelo\n",
        "\n",
        "#30% para test y 70% para train\n"
      ]
    },
    {
      "cell_type": "code",
      "execution_count": null,
      "metadata": {
        "id": "hvXAxOHGQgFf"
      },
      "outputs": [],
      "source": [
        "#Arbol de decision\n",
        "\n",
        "\n",
        "#Creacion del modelo\n"
      ]
    },
    {
      "cell_type": "code",
      "execution_count": null,
      "metadata": {
        "id": "xShaxWvAQgFg"
      },
      "outputs": [],
      "source": [
        "#Entrenamiento\n"
      ]
    },
    {
      "cell_type": "code",
      "execution_count": null,
      "metadata": {
        "id": "gmbcpF6NQgFh"
      },
      "outputs": [],
      "source": [
        "#Calculo de las predicciones en Train y Test\n"
      ]
    },
    {
      "cell_type": "markdown",
      "metadata": {
        "id": "iBswC_5nx9vA"
      },
      "source": [
        "## Evaluación del modelo"
      ]
    },
    {
      "cell_type": "code",
      "execution_count": null,
      "metadata": {
        "id": "PEFer98fQgFi"
      },
      "outputs": [],
      "source": [
        "#Calculo de metricas\n",
        "\n",
        "\n",
        "#Calculo el accuracy en Train\n",
        "\n",
        "\n",
        "#Calculo el accuracy en Test\n"
      ]
    },
    {
      "cell_type": "code",
      "execution_count": null,
      "metadata": {
        "id": "0ekXLlSxQgFj"
      },
      "outputs": [],
      "source": [
        "#Verificamos el feature importances\n",
        "\n",
        "# Mostrar\n"
      ]
    },
    {
      "cell_type": "code",
      "execution_count": null,
      "metadata": {
        "id": "s9vYxrQcgwBK"
      },
      "outputs": [],
      "source": []
    },
    {
      "cell_type": "markdown",
      "metadata": {
        "id": "dVllDUvOQgFk"
      },
      "source": [
        "**Para pensar: ¿Qué pasa si agregamos más estimadores para nuestro modelo de random forest?**"
      ]
    }
  ],
  "metadata": {
    "colab": {
      "provenance": [],
      "include_colab_link": true
    },
    "kernelspec": {
      "display_name": "Python 3 (ipykernel)",
      "language": "python",
      "name": "python3"
    },
    "language_info": {
      "codemirror_mode": {
        "name": "ipython",
        "version": 3
      },
      "file_extension": ".py",
      "mimetype": "text/x-python",
      "name": "python",
      "nbconvert_exporter": "python",
      "pygments_lexer": "ipython3",
      "version": "3.9.12"
    },
    "varInspector": {
      "cols": {
        "lenName": 16,
        "lenType": 16,
        "lenVar": 40
      },
      "kernels_config": {
        "python": {
          "delete_cmd_postfix": "",
          "delete_cmd_prefix": "del ",
          "library": "var_list.py",
          "varRefreshCmd": "print(var_dic_list())"
        },
        "r": {
          "delete_cmd_postfix": ") ",
          "delete_cmd_prefix": "rm(",
          "library": "var_list.r",
          "varRefreshCmd": "cat(var_dic_list()) "
        }
      },
      "types_to_exclude": [
        "module",
        "function",
        "builtin_function_or_method",
        "instance",
        "_Feature"
      ],
      "window_display": false
    }
  },
  "nbformat": 4,
  "nbformat_minor": 0
}